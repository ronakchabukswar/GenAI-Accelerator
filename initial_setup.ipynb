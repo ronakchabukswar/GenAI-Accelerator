{
 "cells": [
  {
   "cell_type": "code",
   "execution_count": 45,
   "id": "6d54edfb-1cf0-4b94-8e25-541076ed4a6f",
   "metadata": {
    "scrolled": true
   },
   "outputs": [],
   "source": [
    "!pip install -q -r requirements.txt"
   ]
  },
  {
   "cell_type": "code",
   "execution_count": 51,
   "id": "fdd15247-7940-41f5-8c86-8deed8171aa6",
   "metadata": {},
   "outputs": [],
   "source": [
    "# import local_settings.py file\n",
    "from local_settings import *"
   ]
  },
  {
   "cell_type": "code",
   "execution_count": 52,
   "id": "877b8f30-af85-414c-bf6e-85baefb69e1c",
   "metadata": {},
   "outputs": [],
   "source": [
    "# import GoogleGenerativeAI from langchain_google_genai\n",
    "from langchain_google_genai import GoogleGenerativeAI"
   ]
  },
  {
   "cell_type": "code",
   "execution_count": 53,
   "id": "54255649-609e-4830-8d10-49f4bae2b833",
   "metadata": {},
   "outputs": [],
   "source": [
    "# Initialize the Gemini LLM with Google API Key from local_settings.py file\n",
    "llm = GoogleGenerativeAI(model=\"gemini-2.0-flash\", google_api_key=GOOGLE_API_KEY)"
   ]
  },
  {
   "cell_type": "code",
   "execution_count": 54,
   "id": "82301cdb-756e-49ca-9a09-a61d8a2fe542",
   "metadata": {},
   "outputs": [
    {
     "name": "stdout",
     "output_type": "stream",
     "text": [
      " Prompt: 'Write a short paragraph highlighting usage and advantages of LLMs'\n",
      " Response: 'Large Language Models (LLMs) are rapidly transforming various fields with their ability to generate human-quality text, translate languages, write different kinds of creative content, and answer your questions in an informative way. Their usage spans from automating customer service with chatbots to accelerating content creation and providing personalized learning experiences. The advantages of LLMs include increased efficiency, reduced costs, improved accuracy in certain tasks, and the ability to process and analyze vast amounts of data, leading to valuable insights and innovative solutions.'\n"
     ]
    }
   ],
   "source": [
    "# Basic Text Generation\n",
    "prompt = \"Write a short paragraph highlighting usage and advantages of LLMs\"\n",
    "response = llm(prompt)\n",
    "print(\" Prompt: '{0}'\\n Response: '{1}'\".format(prompt, response))"
   ]
  },
  {
   "cell_type": "code",
   "execution_count": 55,
   "id": "3f795003-512b-4e08-a954-866bde95d67e",
   "metadata": {},
   "outputs": [],
   "source": [
    "# Using PromptTemplate\n",
    "from langchain.prompts import PromptTemplate\n",
    "\n",
    "prompt_template = PromptTemplate(\n",
    "    input_variables=[\"animal\"],\n",
    "    template=\"Write a short, funny poem about a {animal}.\",\n",
    ")"
   ]
  },
  {
   "cell_type": "code",
   "execution_count": 60,
   "id": "ec3360a3-b08d-4b4c-be04-8c7a5c1aaf35",
   "metadata": {},
   "outputs": [
    {
     "name": "stdout",
     "output_type": "stream",
     "text": [
      "\n",
      "Poem about penguin:\n",
      "A penguin named Percy, quite round,\n",
      "Tried tap-dancing on icy ground.\n",
      "He slipped with a squawk,\n",
      "Then landed ker-plop!\n",
      "And now wears a permanent frown.\n"
     ]
    }
   ],
   "source": [
    "# Using LLMChain\n",
    "from langchain.chains import LLMChain\n",
    "chain = LLMChain(llm=llm, prompt=prompt_template)\n",
    "\n",
    "# Run the chain\n",
    "animal = \"penguin\"\n",
    "poem = chain.invoke(animal)\n",
    "\n",
    "print(\"\\nPoem about {0}:\".format(animal))\n",
    "print(poem.get('text'))"
   ]
  },
  {
   "cell_type": "markdown",
   "id": "bb3be23a-f03c-46e2-946c-9e7c45aab340",
   "metadata": {},
   "source": []
  }
 ],
 "metadata": {
  "kernelspec": {
   "display_name": "Python 3 (ipykernel)",
   "language": "python",
   "name": "python3"
  },
  "language_info": {
   "codemirror_mode": {
    "name": "ipython",
    "version": 3
   },
   "file_extension": ".py",
   "mimetype": "text/x-python",
   "name": "python",
   "nbconvert_exporter": "python",
   "pygments_lexer": "ipython3",
   "version": "3.12.5"
  }
 },
 "nbformat": 4,
 "nbformat_minor": 5
}
